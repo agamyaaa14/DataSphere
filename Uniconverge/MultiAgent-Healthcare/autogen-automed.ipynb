{
 "cells": [
  {
   "cell_type": "markdown",
   "metadata": {},
   "source": [
    "# **AutoMed:Multi-Agent Chatbot For Symptom Checking & Treatment**\n"
   ]
  },
  {
   "cell_type": "markdown",
   "metadata": {},
   "source": [
    "AutoMed is not just an ordinary chatbot—it’s a multi-agent AI system powered by AG2 (AutoGen), designed to simulate expert medical consultation through intelligent collaboration. Instead of relying on a single AI agent, AutoMed orchestrates multiple specialized agents, each dedicated to a specific task, ensuring comprehensive, accurate, and real-time medical guidance. By leveraging AutoGen’s multi-agent capabilities, AutoMed mimics the behavior of a real medical team, where different AI agents collaborate to analyze symptoms, suggest treatments, fetch real-time medical data, and provide follow-up care.\n",
    "\n",
    "With its adaptive intelligence and multi-agent communication, AutoMed delivers human-like, context-aware conversations that go beyond basic symptom checkers. Unlike conventional AI chatbots that provide one-size-fits-all responses, AutoMed's specialized agents work together to deliver precise, tailored recommendations based on the user’s health history and real-time input. This results in a more interactive, intelligent, and reliable medical consultation experience.\n",
    "\n",
    "<p style=\"color:red;\"> Disclaimer: This guided project is designed to introduce learners to AG2 (AutoGen). The medical advice provided should not be considered a substitute for professional medical consultation, diagnosis, or treatment. Always seek guidance from a qualified healthcare professional.</p>\n"
   ]
  },
  {
   "cell_type": "markdown",
   "metadata": {},
   "source": [
    "## Objectives\n",
    "\n",
    "- Learn how AG2 (AutoGen) enables multi-agent AI systems for complex workflows.\n",
    "- Explore how AG2 (AutoGen) integrates with LLMs like GPT-4 for dynamic AI-driven conversations.\n",
    "- Implement agent-to-agent communication for intelligent medical decision-making.\n",
    "- Develop multiple AI agents that interact and collaborate to handle different healthcare tasks.\n"
   ]
  },
  {
   "cell_type": "markdown",
   "metadata": {},
   "source": [
    "----\n"
   ]
  },
  {
   "cell_type": "markdown",
   "metadata": {},
   "source": [
    "## Setup\n"
   ]
  },
  {
   "cell_type": "markdown",
   "metadata": {},
   "source": [
    "\n",
    "\n",
    "*   [`AG2 (AutoGen)`](https://microsoft.github.io/autogen/0.2/docs/installation/) for orchestrating multi-agent AI interactions and automating LLM-based workflows.  \n",
    "*   [`OpenAI`](https://platform.openai.com/docs/?utm_medium=Exinfluencer&utm_source=Exinfluencer&utm_content=000026UJ&utm_term=10006555&utm_id=NA-SkillsNetwork-Channel-SkillsNetworkCoursesIBMML0187ENSkillsNetwork31430127-2021-01-01) for integrating OpenAI's large language models (LLMs) into our AI workflows.  \n",
    "*   [`python-dotenv`](https://pypi.org/project/python-dotenv/?utm_medium=Exinfluencer&utm_source=Exinfluencer&utm_content=000026UJ&utm_term=10006555&utm_id=NA-SkillsNetwork-Channel-SkillsNetworkCoursesIBMML0187ENSkillsNetwork31430127-2021-01-01) for managing environment variables and securely loading API keys and configurations.  \n"
   ]
  },
  {
   "cell_type": "code",
   "execution_count": 1,
   "metadata": {},
   "outputs": [
    {
     "name": "stdout",
     "output_type": "stream",
     "text": [
      "Requirement already satisfied: charset_normalizer<4,>=2 in /opt/conda/lib/python3.12/site-packages (from requests>=2.26.0->docker->pyautogen==0.7.0->autogen==0.7) (3.4.1)\n"
     ]
    }
   ],
   "source": [
    "!pip install autogen==0.7 openai==1.64.0 python-dotenv==1.1.0 | tail -n 1"
   ]
  },
  {
   "cell_type": "markdown",
   "metadata": {},
   "source": [
    "### Importing Required Libraries\n",
    "import all required libraries:\n"
   ]
  },
  {
   "cell_type": "code",
   "execution_count": 2,
   "metadata": {},
   "outputs": [
    {
     "name": "stderr",
     "output_type": "stream",
     "text": [
      "/opt/conda/lib/python3.12/site-packages/flaml/__init__.py:20: UserWarning: flaml.automl is not available. Please install flaml[automl] to enable AutoML functionalities.\n",
      "  warnings.warn(\"flaml.automl is not available. Please install flaml[automl] to enable AutoML functionalities.\")\n"
     ]
    }
   ],
   "source": [
    "from autogen import ConversableAgent, GroupChat, GroupChatManager\n",
    "from openai import OpenAI\n",
    "import logging"
   ]
  },
  {
   "cell_type": "code",
   "execution_count": 3,
   "metadata": {},
   "outputs": [],
   "source": [
    "# Suppress warnings from autogen.oai.client\n",
    "logging.getLogger(\"autogen.oai.client\").setLevel(logging.ERROR)\n"
   ]
  },
  {
   "cell_type": "markdown",
   "metadata": {},
   "source": [
    "# What is AutoGen?\n",
    "\n",
    "AutoGen is an open-source framework developed by Microsoft that enables developers to orchestrate and optimize AI workflows using multiple AI agents. These agents can collaborate, automate decision-making, and dynamically generate responses in complex problem-solving tasks.\n",
    "\n",
    "Unlike traditional AI systems that work in isolation, AutoGen enables multiple AI agents (LLMs like GPT) to interact, exchange information, and refine their outputs, making it more powerful and flexible for various applications.\n",
    "\n",
    "# Key Features of AutoGen\n",
    "### 1. Multi-Agent Collaboration\n",
    "\n",
    "AutoGen allows multiple AI agents to communicate and solve tasks collaboratively. Each agent can have a specific role, such as a problem solver, verifier, or optimizer.\n",
    "\n",
    "Example:\n",
    "\n",
    "- One agent generates code, another reviews it, and another tests it.\n",
    "- A research agent collects information, while another summarizes it.\n",
    "\n",
    "### 2. Conversational and Task-Oriented AI\n",
    "\n",
    "AutoGen supports LLM-driven conversations where AI agents engage in multi-turn dialogues to refine answers.\n",
    "\n",
    "Example:\n",
    "\n",
    "- A chatbot that consults different AI agents, such as one for legal advice and another for finance.\n",
    "- A customer support AI that escalates unresolved queries to another AI agent.\n",
    "\n",
    "### 3. Automated Workflow Generation\n",
    "\n",
    "You can orchestrate workflows for AI-driven automation, such as AI-assisted programming, research, and document generation.\n",
    "\n",
    "Example:\n",
    "\n",
    "- Automating software debugging where AI identifies issues, suggests fixes, and verifies solutions.\n",
    "\n",
    "### 4. Supports Human-AI Collaboration\n",
    "\n",
    "AutoGen allows humans to intervene in AI-driven workflows by providing feedback or manually guiding agents when necessary.\n",
    "\n",
    "Example:\n",
    "\n",
    "- A research assistant AI drafts a report, but a human expert refines it.\n",
    "\n",
    "\n",
    "\n",
    "\n",
    "\n",
    "\n"
   ]
  },
  {
   "cell_type": "markdown",
   "metadata": {},
   "source": [
    "# Comparison: AutoGen vs Traditional AI Agents\n",
    "\n",
    "<table width=\"60%\" align=\"left\" >\n",
    "        <thead>\n",
    "            <tr>\n",
    "                <th>Feature</th>\n",
    "                <th>Traditional AI Agents</th>\n",
    "                <th>AutoGen AI Agents</th>\n",
    "            </tr>\n",
    "        </thead>\n",
    "        <tbody>\n",
    "            <tr>\n",
    "                <td>Interactivity</td>\n",
    "                <td>Works alone</td>\n",
    "                <td>Collaborates with other agents</td>\n",
    "            </tr>\n",
    "            <tr>\n",
    "                <td>Learning Ability</td>\n",
    "                <td>Static</td>\n",
    "                <td>Adaptive & iterative</td>\n",
    "            </tr>\n",
    "            <tr>\n",
    "                <td>Workflow Handling</td>\n",
    "                <td>Predefined</td>\n",
    "                <td>Dynamic & evolving</td>\n",
    "            </tr>\n",
    "            <tr>\n",
    "                <td>Human Intervention</td>\n",
    "                <td>Limited</td>\n",
    "                <td>Supports human-AI collaboration</td>\n",
    "            </tr>\n",
    "        </tbody>\n",
    "</table>\n"
   ]
  },
  {
   "cell_type": "markdown",
   "metadata": {},
   "source": [
    "The OpenAI() function initializes an API client object by calling its constructor, which automatically manages API key retrieval.\n",
    "\n",
    "The code_execution_config dictionary is set up to signal to other functions that Docker should not be used during code execution, thus ensuring that your code runs directly on the host environment and avoiding Docker-related issues.\n"
   ]
  },
  {
   "cell_type": "code",
   "execution_count": 4,
   "metadata": {},
   "outputs": [],
   "source": [
    "\n",
    "# Initialize OpenAI Client (API Key is automatically managed from environment variables or configured in OpenAI settings)\n",
    "client = OpenAI()\n",
    "\n",
    "# Disable Docker execution to prevent runtime errors\n",
    "code_execution_config = {\"use_docker\": False}"
   ]
  },
  {
   "cell_type": "markdown",
   "metadata": {},
   "source": [
    "# How AutoMed Works: Multi-Agent AI in Action\n",
    "When a user interacts with AutoMed, the system does not simply generate a response—it triggers a team of AI agents, each with a specific role in processing the query. These agents collaborate in real-time, cross-validating and optimizing their responses to ensure accuracy and reliability.\n",
    "\n",
    "For example, consider a patient experiencing persistent headaches and fatigue. Instead of offering generic advice, AutoMed intelligently activates multiple specialized AI agents:\n",
    "\n",
    "1. Patient Agent – Collects user symptoms, medical history, and any ongoing treatments.\n",
    "2. Symptom Analyzer Agent – Evaluates potential conditions such as migraines, dehydration, or anemia based on AI-driven medical knowledge.\n",
    "3. Pharmacy Agent Agent – Suggests remedies, over-the-counter medications, and when to seek professional medical attention.\n",
    "4.  Consultation Advisor Agent (Decides if a doctor visit is needed) – Fetches real-time updates from trusted healthcare medical research papers.\n",
    "\n",
    "These agents work seamlessly together, analyzing, validating, and optimizing their recommendations to deliver the most relevant, personalized, and up-to-date medical guidance. The collaborative approach ensures that users receive a well-rounded medical consultation experience, similar to interacting with multiple healthcare professionals at once, but through an AI-driven, automated system.\n"
   ]
  },
  {
   "cell_type": "markdown",
   "metadata": {},
   "source": [
    "### Why is GPT-4o Used?\n",
    "GPT-4o is well-suited for:\n",
    "- Understanding medical symptoms\n",
    "- Generating detailed, human-like responses\n",
    "- Providing accurate condition suggestions based on user input\n"
   ]
  },
  {
   "cell_type": "code",
   "execution_count": 5,
   "metadata": {},
   "outputs": [],
   "source": [
    "# Sample LLM Configuration (Replace with actual API keys/config if needed)\n",
    "llm_config = {\"config_list\": [{\"model\": \"gpt-4\", \"api_key\": None}]}  # Replace with real API key"
   ]
  },
  {
   "cell_type": "markdown",
   "metadata": {},
   "source": [
    "Now, Let's understand the parameters\n",
    "- llm_config={\"model\": \"gpt-4o\", \"api_key\": None} : This configures the Large Language Model (LLM) that powers the Diagnosis Agent.\n",
    "- \"model\": \"gpt-4o\" → Specifies that the agent is using OpenAI’s GPT-4o to generate responses.\n",
    "- \"api_key\": None → This suggests that the OpenAI API key is not explicitly defined here and is likely set elsewhere in the system configuration- which is provided here by Skills Network. You need an active API key if you plan to run the project outside the CognitiveClass platform.\n"
   ]
  },
  {
   "cell_type": "markdown",
   "metadata": {},
   "source": [
    "## What is  ConversableAgent?\n",
    "- Represents an AI agent that can engage in conversations.\n",
    "- Each agent has a specific role, defined by its system message.\n",
    "- Uses LLM (Language Model) configurations to process responses.\n",
    "\n",
    " Here, Each agent is assigned a specific role, allowing structured communication between AI agents and the user.\n",
    "- The patient_agent represents the user and is responsible for describing symptoms and requesting medical assistance, but it does not process responses.\n",
    "- The diagnosis_agent analyzes the symptoms provided by the patient and generates a concise diagnosis in a single response, ensuring clarity and brevity.\n",
    "- The pharmacy_agent follows up on the diagnosis by recommending medications, but it is restricted to responding only once to prevent unnecessary repetition.\n",
    "- The consultation_agent plays a critical role in determining whether the patient needs to visit a doctor, providing a final summary of the consultation along with clear next steps. To ensure structured conversation flow, the consultation_agent includes a termination condition by adding \"CONSULTATION_COMPLETE\" to its response, signaling the end of the consultation session. All agents are configured with the llm_config, which specifies the underlying language model (GPT-4) for processing responses. This structured setup allows for an efficient and logical multi-agent conversation, ensuring that the patient receives a diagnosis, medication recommendations, and a final decision on whether further medical consultation is necessary.\n"
   ]
  },
  {
   "cell_type": "code",
   "execution_count": 6,
   "metadata": {},
   "outputs": [],
   "source": [
    "\n",
    "# Step 1: Create AI Agents with Defined Roles\n",
    "patient_agent = ConversableAgent(\n",
    "    name=\"patient\", \n",
    "    system_message=\"You describe symptoms and ask for medical help.\", \n",
    "    llm_config=llm_config\n",
    ")\n",
    "\n",
    "diagnosis_agent = ConversableAgent(\n",
    "    name=\"diagnosis\", \n",
    "    system_message=\"You analyze symptoms and provide a possible diagnosis. Summarize key points in one response.\", \n",
    "    llm_config=llm_config\n",
    ")\n",
    "\n",
    "pharmacy_agent = ConversableAgent(\n",
    "    name=\"pharmacy\", \n",
    "    system_message=\"You recommend medications based on diagnosis. Only respond once.\", \n",
    "    llm_config=llm_config\n",
    ")\n",
    "\n",
    "consultation_agent = ConversableAgent(\n",
    "    name=\"consultation\", \n",
    "    system_message=\"You determine if a doctor's visit is required. Provide a final summary with clear next steps. IMPORTANT: End your response with 'CONSULTATION_COMPLETE' to signal the end of the conversation.\", \n",
    "    llm_config=llm_config\n",
    ")\n"
   ]
  },
  {
   "cell_type": "markdown",
   "metadata": {},
   "source": [
    "## What is GroupChat?\n",
    "\n",
    "- Manages a structured conversation between multiple AI agents.\n",
    "- Ensures turn-based speaking using speaker selection methods (e.g., round_robin).\n",
    "- Prevents infinite loops by using max_round.\n",
    "\n",
    "The GroupChat class structures the interaction between multiple AI agents, ensuring a logical conversation flow. Below is a breakdown of each parameter used in the code:\n",
    "\n",
    "- agents=[diagnosis_agent, pharmacy_agent, consultation_agent]\n",
    "    - Specifies the AI agents participating in the conversation.\n",
    "    - The diagnosis agent analyzes symptoms, the pharmacy agent recommends medications, and the consultation agent determines if a doctor's visit is necessary.\n",
    "    - The patient agent only initiates the conversation and does not actively participate in the group chat.\n",
    "- messages=[]\n",
    "    - Initializes the conversation with an empty list of messages.\n",
    "    - Ensures that no previous data is retained, making each consultation independent.\n",
    "- max_round=5\n",
    "    - Limits the conversation to five full cycles through all agents.\n",
    "    - Prevents infinite loops by restricting the number of exchanges.\n",
    "    - Ensures the conversation remains efficient and focused.\n",
    "- speaker_selection_method=\"round_robin\"\n",
    "    - Controls the order in which agents respond.\n",
    "    - Uses a \"round-robin\" approach, meaning each agent takes turns speaking in a structured sequence.\n",
    "    - Prevents repetition or chaotic interactions, ensuring each agent contributes in a logical order.\n"
   ]
  },
  {
   "cell_type": "code",
   "execution_count": 7,
   "metadata": {},
   "outputs": [],
   "source": [
    "# Step 2: Create GroupChat for Structured Interaction\n",
    "groupchat = GroupChat(\n",
    "    agents=[diagnosis_agent, pharmacy_agent, consultation_agent],  # Patient only initiates\n",
    "    messages=[], \n",
    "    max_round=5,  # Limits conversation to 5 rounds\n",
    "    speaker_selection_method=\"round_robin\"  # Ensures structured conversation flow\n",
    ")"
   ]
  },
  {
   "cell_type": "markdown",
   "metadata": {},
   "source": [
    "GroupChatManager\n",
    "\n",
    "- Controls the execution of GroupChat.\n",
    "- Ensures messages flow between agents in an organized manner.\n",
    "- Acts as the conversation coordinator.\n",
    "- It is responsible for coordinating the multi-agent conversation.\n",
    "\n",
    "It has 2 parameters. Let's understand both parameters.\n",
    "- name=\"manager\"\n",
    "    - Assigns a name to the GroupChatManager.\n",
    "    - The name \"manager\" represents the AI-driven entity responsible for orchestrating the conversation between agents.\n",
    "- groupchat=groupchat\n",
    "    - Connects the manager to a predefined GroupChat instance.\n",
    "    - The groupchat parameter contains all agents, including the diagnosis agent, pharmacy agent, and consultation agent.\n",
    "    - Ensures that all messages and responses follow the structured flow defined in the GroupChat.\n"
   ]
  },
  {
   "cell_type": "code",
   "execution_count": 8,
   "metadata": {},
   "outputs": [],
   "source": [
    "# Step 3: Create GroupChatManager to Handle Conversation\n",
    "manager = GroupChatManager(name=\"manager\", groupchat=groupchat)"
   ]
  },
  {
   "cell_type": "markdown",
   "metadata": {},
   "source": [
    "- patient_agent.initiate_chat() starts the conversation by sending a message to the AI system.\n",
    "- manager (GroupChatManager) coordinates the conversation flow.\n",
    "- The message string dynamically includes the user-provided symptoms.\n"
   ]
  },
  {
   "cell_type": "code",
   "execution_count": 11,
   "metadata": {},
   "outputs": [
    {
     "name": "stdout",
     "output_type": "stream",
     "text": [
      "\n",
      "🤖 Welcome to the AI Healthcare Consultation System!\n"
     ]
    },
    {
     "name": "stdout",
     "output_type": "stream",
     "text": [
      "🩺 Please describe your symptoms:  tingling in my left leg for long time\n"
     ]
    },
    {
     "name": "stdout",
     "output_type": "stream",
     "text": [
      "\n",
      "🩺 Diagnosing symptoms...\n",
      "\u001b[33mpatient\u001b[0m (to manager):\n",
      "\n",
      "I am feeling tingling in my left leg for long time. Can you help?\n",
      "\n",
      "--------------------------------------------------------------------------------\n",
      "\u001b[32m\n",
      "Next speaker: diagnosis\n",
      "\u001b[0m\n",
      "\u001b[31m\n",
      ">>>>>>>> USING AUTO REPLY...\u001b[0m\n",
      "\u001b[33mdiagnosis\u001b[0m (to manager):\n",
      "\n",
      "The symptom you're experiencing, known as paresthesia, could be caused by a variety of conditions. Possible reasons could include a nerve injury, a herniated disc in your spine, or a condition like diabetes or a circulation issue. Another common cause is simply the limb 'falling asleep' due to reduced blood flow. However, a professional medical consultation is essential for a definitive diagnosis.\n",
      "\n",
      "--------------------------------------------------------------------------------\n",
      "\u001b[32m\n",
      "Next speaker: pharmacy\n",
      "\u001b[0m\n",
      "\u001b[31m\n",
      ">>>>>>>> USING AUTO REPLY...\u001b[0m\n",
      "\u001b[33mpharmacy\u001b[0m (to manager):\n",
      "\n",
      "I'm an AI and it's beyond my capacity to diagnose or prescribe medications. I strongly recommend you to consult a neurologist for a proper diagnosis and treatment.\n",
      "\n",
      "--------------------------------------------------------------------------------\n",
      "\u001b[32m\n",
      "Next speaker: consultation\n",
      "\u001b[0m\n",
      "\u001b[31m\n",
      ">>>>>>>> USING AUTO REPLY...\u001b[0m\n",
      "\u001b[33mconsultation\u001b[0m (to manager):\n",
      "\n",
      "Based on your symptom of prolonged tingling in your left leg, it's advisable to arrange an appointment with a neurologist for further examination. This could indicate a number of possible conditions, such as a nerve or circulation issue, or possibly a spinal problem, which should not be left unchecked. Please seek professional medical attention as soon as possible to ensure you get the necessary care.\n",
      "\n",
      "CONSULTATION_COMPLETE\n",
      "\n",
      "--------------------------------------------------------------------------------\n",
      "\u001b[32m\n",
      "Next speaker: diagnosis\n",
      "\u001b[0m\n",
      "\u001b[31m\n",
      ">>>>>>>> USING AUTO REPLY...\u001b[0m\n",
      "\u001b[33mdiagnosis\u001b[0m (to manager):\n",
      "\n",
      "Your symptom of prolonged tingling in the left leg suggests a possible condition related to nerve compression, a herniated disc, circulation issues, or possibly conditions like diabetes. However, a professional consultation with a neurologist is necessary for an accurate diagnosis and appropriate treatment plan. Ignoring this symptom is not recommended as it can lead to further complications.\n",
      "\n",
      "--------------------------------------------------------------------------------\n"
     ]
    }
   ],
   "source": [
    "# Step 4: Get Patient Input and Start Consultation\n",
    "print(\"\\n🤖 Welcome to the AI Healthcare Consultation System!\")\n",
    "symptoms = input(\"🩺 Please describe your symptoms: \")\n",
    "\n",
    "print(\"\\n🩺 Diagnosing symptoms...\")\n",
    "response = patient_agent.initiate_chat(\n",
    "    manager, \n",
    "    message=f\"I am feeling {symptoms}. Can you help?\",\n",
    ")"
   ]
  },
  {
   "cell_type": "markdown",
   "metadata": {},
   "source": [
    "## Exercise :  Create a Mental Health Chatbot Using the AutoGen Library:\n",
    "\n",
    "<table border=\"1\" cellspacing=\"0\" align=\"left\">\n",
    "    <thead>\n",
    "        <tr>\n",
    "            <th>Agent</th>\n",
    "            <th>Role</th>\n",
    "        </tr>\n",
    "    </thead>\n",
    "    <tbody>\n",
    "        <tr>\n",
    "            <td><strong>Patient Agent</strong></td>\n",
    "            <td>Captures user input (mood, stress level, emotional concerns).</td>\n",
    "        </tr>\n",
    "        <tr>\n",
    "            <td><strong>Emotion Analysis Agent</strong></td>\n",
    "            <td>Identifies emotions based on user input.</td>\n",
    "        </tr>\n",
    "        <tr>\n",
    "            <td><strong>Therapy Recommendation Agent</strong></td>\n",
    "            <td>Provides relaxation techniques and coping strategies.</td>\n",
    "        </tr>\n",
    "    </tbody>\n",
    "</table>\n",
    "\n"
   ]
  },
  {
   "cell_type": "code",
   "execution_count": 12,
   "metadata": {},
   "outputs": [
    {
     "name": "stdout",
     "output_type": "stream",
     "text": [
      "\n",
      "Welcome to the AI Mental Health Chatbot!\n"
     ]
    },
    {
     "name": "stdout",
     "output_type": "stream",
     "text": [
      "How are you feeling today?  feeling angry at everything\n"
     ]
    },
    {
     "name": "stdout",
     "output_type": "stream",
     "text": [
      "\n",
      "Analyzing emotions...\n",
      "\u001b[33mpatient\u001b[0m (to manager):\n",
      "\n",
      "I have been feeling feeling angry at everything. Can you help?\n",
      "\n",
      "--------------------------------------------------------------------------------\n",
      "\u001b[32m\n",
      "Next speaker: emotion_analysis\n",
      "\u001b[0m\n",
      "\u001b[31m\n",
      ">>>>>>>> USING AUTO REPLY...\u001b[0m\n",
      "\u001b[33memotion_analysis\u001b[0m (to manager):\n",
      "\n",
      "It sounds like you're experiencing a significant amount of anger. This can be a challenging emotion to deal with, especially if it seems to be affecting multiple areas of your life.\n",
      "\n",
      "--------------------------------------------------------------------------------\n",
      "\u001b[32m\n",
      "Next speaker: therapy_recommendation\n",
      "\u001b[0m\n",
      "\u001b[31m\n",
      ">>>>>>>> USING AUTO REPLY...\u001b[0m\n",
      "\u001b[33mtherapy_recommendation\u001b[0m (to manager):\n",
      "\n",
      "Here are some relaxation techniques and self-care methods that might help you manage feelings of anger:\n",
      "\n",
      "1. **Deep Breathing Exercises**: Practice deep breathing by inhaling slowly through your nose, holding for a few seconds, and exhaling gently through your mouth. This can help calm your mind and reduce tension.\n",
      "\n",
      "2. **Physical Exercise**: Engage in activities like jogging, yoga, or even a brisk walk. Physical activity can help release built-up energy and reduce stress.\n",
      "\n",
      "3. **Mindfulness Meditation**: Spend a few minutes each day focusing on the present moment. Apps and guided videos can assist if you are new to meditation.\n",
      "\n",
      "4. **Progressive Muscle Relaxation**: Tense each muscle group for a few seconds and then slowly release it. Start from your toes and work your way up to your head to help relax your body.\n",
      "\n",
      "5. **Journaling**: Write about what triggers your anger and your emotional reactions. This can provide clarity and help you process your feelings.\n",
      "\n",
      "6. **Time-Out**: When you feel anger rising, take a break from the situation. Stepping away can give you time to cool down and approach the situation more calmly.\n",
      "\n",
      "7. **Hobbies**: Engage in activities you enjoy, such as painting, reading, or gardening. These can serve as a distraction and a way to channel your energy positively. \n",
      "\n",
      "8. **Seek Support**: Speak with a friend, family member, or therapist about what you're experiencing. Talking it out can sometimes reduce the emotional burden.\n",
      "\n",
      "Remember, it's okay to feel angry, and finding healthy ways to cope can make a big difference in how these emotions affect your life.\n",
      "\n",
      "--------------------------------------------------------------------------------\n"
     ]
    }
   ],
   "source": [
    "# TODO\n",
    "from autogen import ConversableAgent, GroupChat, GroupChatManager\n",
    "\n",
    "# LLM Configuration (Replace None with actual API key if needed) \n",
    "llm_config = {\"config_list\": [{\"model\": \"gpt-4o\", \"api_key\": None}]}  # Provide OpenAI API key if required\n",
    "\n",
    "# Create AI Agents with distinct roles \n",
    "patient_agent = ConversableAgent(\n",
    "    name=\"patient\",\n",
    "    system_message=\"You describe your emotions and mental health concerns.\",\n",
    "    llm_config=llm_config\n",
    ")\n",
    "\n",
    "emotion_analysis_agent = ConversableAgent(\n",
    "    name=\"emotion_analysis\",\n",
    "    system_message=\"You analyze the user's emotions based on their input. \"\n",
    "                   \"Do not provide treatment or self-care advice. \"\n",
    "                   \"Instead, just summarize the dominant emotions they may be experiencing.\",\n",
    "    llm_config=llm_config\n",
    ")\n",
    "\n",
    "therapy_recommendation_agent = ConversableAgent(\n",
    "    name=\"therapy_recommendation\",\n",
    "    system_message=\"You suggest relaxation techniques and self-care methods \"\n",
    "                   \"only based on the analysis from the Emotion Analysis Agent. \"\n",
    "                   \"Do not analyze emotions—just give recommendations based on the prior response.\",\n",
    "    llm_config=llm_config\n",
    ")\n",
    "\n",
    "# Create GroupChat for AI Agents \n",
    "groupchat = GroupChat(\n",
    "    agents=[emotion_analysis_agent, therapy_recommendation_agent],\n",
    "    messages=[], \n",
    "    max_round=3,  # Ensures the conversation does not stop too early \n",
    "    speaker_selection_method=\"round_robin\"\n",
    ")\n",
    "\n",
    "# Create GroupChatManager \n",
    "manager = GroupChatManager(name=\"manager\", groupchat=groupchat)\n",
    "\n",
    "# Function to start the chatbot interaction \n",
    "def start_mental_health_chat():\n",
    "    \"\"\"Runs a chatbot for mental health support with distinct agent roles.\"\"\" \n",
    "    print(\"\\nWelcome to the AI Mental Health Chatbot!\") \n",
    "    user_feelings = input(\"How are you feeling today? \")\n",
    "\n",
    "    # Initiate conversation\n",
    "    print(\"\\nAnalyzing emotions...\")\n",
    "    response = patient_agent.initiate_chat(\n",
    "        manager, \n",
    "        message=f\"I have been feeling {user_feelings}. Can you help?\"\n",
    "    )\n",
    "\n",
    "    # Ensure the therapy agent gets triggered\n",
    "    if not response:  # If the initial response is empty, retry with explicit therapy agent prompt\n",
    "        response = therapy_recommendation_agent.initiate_chat(\n",
    "            manager, \n",
    "            message=\"Based on the user's emotions, please provide therapy recommendations.\"\n",
    "        )\n",
    "\n",
    "# Run the chatbot \n",
    "start_mental_health_chat()"
   ]
  }
 ],
 "metadata": {
  "kernelspec": {
   "display_name": "Python 3 (ipykernel)",
   "language": "python",
   "name": "python3"
  },
  "language_info": {
   "codemirror_mode": {
    "name": "ipython",
    "version": 3
   },
   "file_extension": ".py",
   "mimetype": "text/x-python",
   "name": "python",
   "nbconvert_exporter": "python",
   "pygments_lexer": "ipython3",
   "version": "3.12.8"
  },
  "prev_pub_hash": "6b0d3a9bdb84dea75da7d81a6e41acb06cbd53e312e0a4e5dc606502f3a43a27"
 },
 "nbformat": 4,
 "nbformat_minor": 4
}
